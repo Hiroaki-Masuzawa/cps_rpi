{
 "cells": [
  {
   "cell_type": "markdown",
   "id": "a471cad1-86bf-4c63-913a-6a96b1dc07a6",
   "metadata": {},
   "source": [
    "# Remote制御対応版"
   ]
  },
  {
   "cell_type": "markdown",
   "id": "fa6be05d-be92-4e19-8c1a-3ad9d2587ca0",
   "metadata": {},
   "source": [
    "## 必要ライブラリインストール"
   ]
  },
  {
   "cell_type": "code",
   "execution_count": 1,
   "id": "0c4fa0ea-3915-47a6-babd-ca5d6d3c3f41",
   "metadata": {},
   "outputs": [
    {
     "name": "stdout",
     "output_type": "stream",
     "text": [
      "Requirement already satisfied: paramiko in /usr/lib/python3/dist-packages (2.6.0)\n",
      "Requirement already satisfied: scp in /usr/local/lib/python3.8/dist-packages (0.14.5)\n",
      "\u001b[33mWARNING: Running pip as the 'root' user can result in broken permissions and conflicting behaviour with the system package manager. It is recommended to use a virtual environment instead: https://pip.pypa.io/warnings/venv\u001b[0m\u001b[33m\n",
      "\u001b[0m"
     ]
    }
   ],
   "source": [
    "! pip3 install paramiko scp"
   ]
  },
  {
   "cell_type": "markdown",
   "id": "967af602-f4fa-4d77-b8a0-5a72a303cece",
   "metadata": {},
   "source": [
    "## ライブラリインポート"
   ]
  },
  {
   "cell_type": "code",
   "execution_count": 2,
   "id": "beee4b2b-af34-4e1b-8045-83a911360d8b",
   "metadata": {},
   "outputs": [],
   "source": [
    "exec(open('/choreonoid_ws/install/share/irsl_choreonoid/sample/irsl_import.py').read())"
   ]
  },
  {
   "cell_type": "code",
   "execution_count": 3,
   "id": "174aa532-539a-4765-9794-842be38ea005",
   "metadata": {},
   "outputs": [],
   "source": [
    "from rpi_controleller import RPIController"
   ]
  },
  {
   "cell_type": "markdown",
   "id": "fb41f4e0-37ea-44a9-ba79-32985e6a77b8",
   "metadata": {},
   "source": [
    "## Raspbery piへの接続"
   ]
  },
  {
   "cell_type": "code",
   "execution_count": 4,
   "id": "b8c7ef10-297c-408a-9121-3b442226ebb6",
   "metadata": {},
   "outputs": [],
   "source": [
    "# 接続インスタンス作成\n",
    "rpc = RPIController('AssembleRobot', 'ros_settings.yaml')\n",
    "# センサノード立ち上げ\n",
    "rpc.connect_sensor('robot_sensor.yaml')\n",
    "# dynamixelノード立ち上げ\n",
    "rpc.connect_dynamixel('dynamixel_config.yaml', 'controller_config.yaml')"
   ]
  },
  {
   "cell_type": "markdown",
   "id": "404a637b-0fb4-4ed0-aa6b-e88988069a30",
   "metadata": {},
   "source": [
    "## RobotInterface立ち上げ"
   ]
  },
  {
   "cell_type": "code",
   "execution_count": 5,
   "id": "6a682a45-3fdb-4aeb-af26-a25aef62dfcd",
   "metadata": {},
   "outputs": [
    {
     "name": "stdout",
     "output_type": "stream",
     "text": [
      "loading model from //userdir/test_robot.body\n",
      "joint: [{'name': 'default', 'topic': '/AssembleRobot/joint_controller/command', 'type': 'command', 'joint_names': ['LINK_0', 'LINK_1']}]\n",
      "devices: [{'topic': '/AssembleRobot/joint_states', 'class': 'JointState', 'name': 'joint_state'}, {'topic': '/AssembleRobot/joint_controller/state', 'class': 'JointTrajectoryState', 'name': 'joint_trajectory_state'}, {'topic': '/AssembleRobot/TOFsensor0/value', 'type': 'std_msgs/Float64', 'name': 'TOFsensor0', 'rate': 10}, {'topic': '/AssembleRobot/TOFsensor1/value', 'type': 'std_msgs/Float64', 'name': 'TOFsensor1', 'rate': 10}]\n"
     ]
    }
   ],
   "source": [
    "ri = RobotInterface('robot_interface.yaml')"
   ]
  },
  {
   "cell_type": "markdown",
   "id": "5e42b993-ed32-4304-8d11-e73c3de9430a",
   "metadata": {},
   "source": [
    "## RIの活用例"
   ]
  },
  {
   "cell_type": "code",
   "execution_count": 6,
   "id": "958523a7-a48a-4ff9-8865-0cc45eb9d04a",
   "metadata": {},
   "outputs": [],
   "source": [
    "ri.sendAngleVector([-1, -1], 4)"
   ]
  },
  {
   "cell_type": "code",
   "execution_count": 7,
   "id": "424ff91f-f2fe-4ee9-92b7-a2b1aff4f512",
   "metadata": {},
   "outputs": [
    {
     "name": "stdout",
     "output_type": "stream",
     "text": [
      "data: 0.439\n"
     ]
    }
   ],
   "source": [
    "tof_data = ri.waitNextData('TOFsensor0', timeout=1.0, clear=True)\n",
    "print(tof_data)"
   ]
  },
  {
   "cell_type": "markdown",
   "id": "cfaf381b-1e2c-4de8-86cc-c90481d77b6e",
   "metadata": {},
   "source": [
    "## 終了方法\n",
    "```disconnect_sensor()```や```discnnet_dynamixel()```で終了するが，デコンストラクタで実施する"
   ]
  },
  {
   "cell_type": "code",
   "execution_count": 8,
   "id": "5e154607-1cec-460b-a615-382a1d6cbd12",
   "metadata": {},
   "outputs": [],
   "source": [
    "del rpc"
   ]
  }
 ],
 "metadata": {
  "kernelspec": {
   "display_name": "Python 3 (ipykernel)",
   "language": "python",
   "name": "python3"
  },
  "language_info": {
   "codemirror_mode": {
    "name": "ipython",
    "version": 3
   },
   "file_extension": ".py",
   "mimetype": "text/x-python",
   "name": "python",
   "nbconvert_exporter": "python",
   "pygments_lexer": "ipython3",
   "version": "3.8.10"
  }
 },
 "nbformat": 4,
 "nbformat_minor": 5
}
